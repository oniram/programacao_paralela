{
 "cells": [
  {
   "cell_type": "code",
   "execution_count": 44,
   "metadata": {},
   "outputs": [],
   "source": [
    "import numpy as np\n",
    "import math\n",
    "\n",
    "def multi_strassen(A,B,check_dim = True, check_ig = True, check_quad = True, check_pot = True):\n",
    "    \n",
    "    def Strassen(matriz_1,matriz_2): # Função do algoritmo de Strassen para multiplicação de matrizes do tipo 2x2\n",
    "        if (matriz_1.shape[0] != 2) or (matriz_1.shape[1] != 2) or (matriz_2.shape[0] != 2) or (matriz_2.shape[1] != 2):\n",
    "            print(\"As matrizes devem ser do tipo 2x2\")\n",
    "            return None\n",
    "\n",
    "        M1 = (matriz_1[0,0] + matriz_1[1,1]) * (matriz_2[0,0] + matriz_2[1,1])\n",
    "        M2 = (matriz_1[1,0] + matriz_1[1,1]) * matriz_2[0,0]\n",
    "        M3 = matriz_1[0,0] * (matriz_2[0,1] - matriz_2[1,1])\n",
    "        M4 = matriz_1[1,1] * (matriz_2[1,0] - matriz_2[0,0])\n",
    "        M5 = (matriz_1[0,0] + matriz_1 [0,1]) * matriz_2[1,1]\n",
    "        M6 = (matriz_1[1,0] - matriz_1[0,0]) * (matriz_2[0,0] + matriz_2[0,1])\n",
    "        M7 = (matriz_1[0,1] - matriz_1[1,1]) * (matriz_2[1,0] + matriz_2[1,1])\n",
    "\n",
    "        Resultado = np.zeros([2,2])\n",
    "        Resultado[0,0] = M1 + M4 - M5 + M7\n",
    "        Resultado[0,1] = M3 + M5\n",
    "        Resultado[1,0] = M2 + M4\n",
    "        Resultado[1,1] = M1 - M2 + M3 + M6\n",
    "\n",
    "        return Resultado\n",
    "    \n",
    "    inicio = datetime.datetime.now()\n",
    "    C = np.zeros([A.shape[0],B.shape[1]]) #Guarda o tamanho original da matriz multiplicada\n",
    "\n",
    "    #Parte 1: Checagem das condições pré-estabelecidas\n",
    "    if (A.shape[1] != B.shape[0]):\n",
    "        print(\"Erro: Não é possível realizar a multiplicação C = A * B com as matrizes fornecidas\")\n",
    "\n",
    "    if check_dim:\n",
    "        \n",
    "        if (len(A.shape) != 2) or (len(B.shape) != 2): #Checa a dimensão da matriz\n",
    "            print(\"Erro: As matrizes devem ser bidimensionais\")\n",
    "            return None\n",
    "\n",
    "    if check_ig:\n",
    "        \n",
    "        if (A.shape != B.shape): #Checa se as matrizes possuem mesma dimensão\n",
    "            print(\"Erro: As matrizes devem possuir mesmas dimensões\")\n",
    "            return None\n",
    "       \n",
    "    if check_quad:\n",
    "        \n",
    "        if ((A.shape[0] - A.shape[1]) != 0) or ((B.shape[0] - B.shape[1]) != 0):\n",
    "            print(\"Erro: As matrizes devem ser ambas quadradas\")\n",
    "            return None\n",
    "\n",
    "    if check_pot:\n",
    "        \n",
    "        if (math.ceil(math.log2(A.shape[0]) != math.floor(math.log2(A.shape[0])))) or (math.ceil(math.log2(A.shape[1]) != math.floor(math.log2(A.shape[1])))):\n",
    "            print(\"A matriz A será modificada, acrescentando-se zeros para que torne-se uma matriz do tipo 2^n x 2^n\")\n",
    "            linhas = 2**math.ceil(math.log2(A.shape[0])) - A.shape[0] #Calcula quantas linhas faltam para um quadrado de dois\n",
    "            colunas = 2**math.ceil(math.log2(A.shape[1])) - A.shape[1] #Calcula quantas colunas faltam para um quadrado de dois\n",
    "            if linhas > colunas:\n",
    "                matriz_auxiliar = np.zeros([linhas,A.shape[1]])\n",
    "                A = np.vstack((A,matriz_auxiliar))\n",
    "                matriz_auxiliar = np.zeros([A.shape[0],A.shape[0]-A.shape[1]])\n",
    "                A = np.hstack((A,matriz_auxiliar))\n",
    "\n",
    "            elif colunas >= linhas:\n",
    "                matriz_auxiliar = np.zeros([A.shape[0],colunas])\n",
    "                A = np.hstack((A,matriz_auxiliar))\n",
    "                matriz_auxiliar = np.zeros([A.shape[1]-A.shape[0],A.shape[1]])\n",
    "                A = np.vstack((A,matriz_auxiliar))\n",
    "\n",
    "        if (math.ceil(math.log2(B.shape[0]) != math.floor(math.log2(B.shape[0])))) or (math.ceil(math.log2(B.shape[1]) != math.floor(math.log2(B.shape[1])))):\n",
    "            print(\"A matriz B será modificada, acrescentando-se zeros para que torne-se uma matriz do tipo 2^n x 2^n\")\n",
    "            linhas = 2**math.ceil(math.log2(B.shape[0])) - B.shape[0] #Calcula quantas linhas faltam para um quadrado de dois\n",
    "            colunas = 2**math.ceil(math.log2(B.shape[1])) - B.shape[1] #Calcula quantas colunas faltam para um quadrado de dois\n",
    "            if linhas > colunas:\n",
    "                matriz_auxiliar = np.zeros([linhas,B.shape[1]])\n",
    "                B = np.vstack((B,matriz_auxiliar))\n",
    "                matriz_auxiliar = np.zeros([B.shape[0],B.shape[0]-B.shape[1]])\n",
    "                B = np.hstack((B,matriz_auxiliar))\n",
    "\n",
    "            elif colunas >= linhas:\n",
    "                matriz_auxiliar = np.zeros([B.shape[0],colunas])\n",
    "                B = np.hstack((B,matriz_auxiliar))\n",
    "                matriz_auxiliar = np.zeros([B.shape[1]-B.shape[0],B.shape[1]])\n",
    "                B = np.vstack((B,matriz_auxiliar))\n",
    "\n",
    "\n",
    "    #Multiplicação de fato das matrizes\n",
    "    \n",
    "    D = np.zeros_like(A)\n",
    "    for i in range(0,A.shape[0],2):\n",
    "        for j in range(0,B.shape[1],2):\n",
    "            soma = 0\n",
    "            for k in range(0,A.shape[1],2):\n",
    "                soma = soma + Strassen(A[i:i+2,k:k+2],B[k:k+2,j:j+2])\n",
    "            D[i:i+2,j:j+2] = soma\n",
    "    C = D[0:C.shape[0],0:C.shape[1]]\n",
    "    print (C)\n",
    "    fim = datetime.datetime.now()\n",
    "    print(\"Tempo de execução = \", fim - inicio)\n",
    "    return C\n"
   ]
  },
  {
   "cell_type": "code",
   "execution_count": 40,
   "metadata": {},
   "outputs": [
    {
     "name": "stdout",
     "output_type": "stream",
     "text": [
      "[[ 0.72986227  2.13382979  0.78212883]\n",
      " [-0.57027204  0.07582152 -0.05656516]\n",
      " [ 0.38243788  2.0751144   0.31587645]\n",
      " [ 0.81782401  1.01833361 -0.74341452]\n",
      " [ 1.2195497  -1.17691075  0.70893001]\n",
      " [-0.38040841  0.66484304  0.61611711]]\n",
      "\n",
      "\n",
      "[[ 1.59124356 -0.43297243  1.54981836 -0.62379499 -0.6455533   0.73140462]\n",
      " [ 0.49535293 -0.61812787 -0.33925219 -1.00519079  0.18298254 -0.96125102]\n",
      " [-1.06316425 -0.26301374  0.65767556 -0.16350672 -2.00616619  0.03425339]]\n",
      "\n",
      "\n",
      "[[ 1.38685606 -1.84070054  0.92163453 -2.72807379 -1.64979183 -1.49053088]\n",
      " [-0.80974525  0.21492209 -0.94674222  0.28876653  0.49549412 -0.49192067]\n",
      " [ 1.30063727 -1.53135096  0.09646636 -2.37609664 -0.50087499 -1.70416918]\n",
      " [ 2.59616348 -0.78802741  0.43308119 -1.41222082  1.14980135 -0.40617843]\n",
      " [ 0.60390536  0.0129916   2.75559601  0.30635603 -2.42486988  2.0475742 ]\n",
      " [-0.93102416 -0.40829893 -0.40990823 -0.53173652 -0.86880473 -0.89620942]]\n"
     ]
    }
   ],
   "source": [
    "S = np.random.randn(6,3)\n",
    "R = np.random.randn(3,6)\n",
    "print(S)\n",
    "print('')\n",
    "print('')\n",
    "print(R)\n",
    "print('')\n",
    "print('')\n",
    "print(np.matmul(S,R))"
   ]
  },
  {
   "cell_type": "code",
   "execution_count": 41,
   "metadata": {},
   "outputs": [
    {
     "name": "stdout",
     "output_type": "stream",
     "text": [
      "A matriz A será modificada, acrescentando-se zeros para que torne-se uma matriz do tipo 2^n x 2^n\n",
      "A matriz B será modificada, acrescentando-se zeros para que torne-se uma matriz do tipo 2^n x 2^n\n",
      "[[ 1.38685606 -1.84070054  0.92163453 -2.72807379 -1.64979183 -1.49053088]\n",
      " [-0.80974525  0.21492209 -0.94674222  0.28876653  0.49549412 -0.49192067]\n",
      " [ 1.30063727 -1.53135096  0.09646636 -2.37609664 -0.50087499 -1.70416918]\n",
      " [ 2.59616348 -0.78802741  0.43308119 -1.41222082  1.14980135 -0.40617843]\n",
      " [ 0.60390536  0.0129916   2.75559601  0.30635603 -2.42486988  2.0475742 ]\n",
      " [-0.93102416 -0.40829893 -0.40990823 -0.53173652 -0.86880473 -0.89620942]]\n"
     ]
    },
    {
     "data": {
      "text/plain": [
       "array([[ 1.38685606, -1.84070054,  0.92163453, -2.72807379, -1.64979183,\n",
       "        -1.49053088],\n",
       "       [-0.80974525,  0.21492209, -0.94674222,  0.28876653,  0.49549412,\n",
       "        -0.49192067],\n",
       "       [ 1.30063727, -1.53135096,  0.09646636, -2.37609664, -0.50087499,\n",
       "        -1.70416918],\n",
       "       [ 2.59616348, -0.78802741,  0.43308119, -1.41222082,  1.14980135,\n",
       "        -0.40617843],\n",
       "       [ 0.60390536,  0.0129916 ,  2.75559601,  0.30635603, -2.42486988,\n",
       "         2.0475742 ],\n",
       "       [-0.93102416, -0.40829893, -0.40990823, -0.53173652, -0.86880473,\n",
       "        -0.89620942]])"
      ]
     },
     "execution_count": 41,
     "metadata": {},
     "output_type": "execute_result"
    }
   ],
   "source": [
    "multi_strassen(S,R,check_dim = False,check_ig = False,check_quad = False, check_pot = True)"
   ]
  },
  {
   "cell_type": "code",
   "execution_count": null,
   "metadata": {},
   "outputs": [],
   "source": [
    "#Código péssimo, desconsiderar\n",
    "\n",
    "#Separação das matrizes em submatrizes 2x2\n",
    "a_aux = []\n",
    "b_aux = []\n",
    "a=[]\n",
    "b=[]\n",
    "for i in range(0,A.shape[0],2):\n",
    "    for j in range(0,A.shape[1],2):\n",
    "        a_aux.append(A[i:i+2,j:j+2])\n",
    "        b_aux.append(B[i:i+2,j:j+2])\n",
    "    a.append(a_aux)\n",
    "    b.append(b_aux)\n",
    "    a_aux = []\n",
    "    b_aux = []\n",
    "\n",
    "# Multiplicação das matrizes\n",
    "c = []\n",
    "for i in range(len(a)):\n",
    "    c.append([])\n",
    "    print(c)\n",
    "    c1 = np.zeros((2,2))\n",
    "    for j in range(len(a)):\n",
    "        c1 = c1 + (Strassen(a[i][j],b[j][i]))\n",
    "    c[i].append(c1)\n",
    "\n",
    "C1 = np.array(c) #Não tem como formatar automaticamente?\n",
    "c = C1[0][0]\n",
    "for i in range(1,C1.shape[0]):\n",
    "    c = np.hstack((c,C1[i][i]))\n",
    "\n",
    "D = c\n",
    "for i in range(1,C1.shape[0]):\n",
    "    c = C1[i][0]\n",
    "    for j in range(1,C1.shape[1]):\n",
    "        c = np.hstack((c,C1[i][j]))\n",
    "    D = np.vstack((D,c))\n",
    "    \n",
    "    \n",
    "C = D[0:C.shape[0],0:C.shape[1]]\n",
    "print(C)\n",
    "\n",
    "#Por algum motivo, o algoritmo de strassen está funcionando mal"
   ]
  },
  {
   "cell_type": "code",
   "execution_count": 45,
   "metadata": {},
   "outputs": [
    {
     "name": "stdout",
     "output_type": "stream",
     "text": [
      "A matriz A será modificada, acrescentando-se zeros para que torne-se uma matriz do tipo 2^n x 2^n\n",
      "A matriz B será modificada, acrescentando-se zeros para que torne-se uma matriz do tipo 2^n x 2^n\n",
      "[[ 1.38685606 -1.84070054  0.92163453 -2.72807379 -1.64979183 -1.49053088]\n",
      " [-0.80974525  0.21492209 -0.94674222  0.28876653  0.49549412 -0.49192067]\n",
      " [ 1.30063727 -1.53135096  0.09646636 -2.37609664 -0.50087499 -1.70416918]\n",
      " [ 2.59616348 -0.78802741  0.43308119 -1.41222082  1.14980135 -0.40617843]\n",
      " [ 0.60390536  0.0129916   2.75559601  0.30635603 -2.42486988  2.0475742 ]\n",
      " [-0.93102416 -0.40829893 -0.40990823 -0.53173652 -0.86880473 -0.89620942]]\n",
      "Tempo de execução =  0:00:00.002929\n"
     ]
    },
    {
     "data": {
      "text/plain": [
       "array([[ 1.38685606, -1.84070054,  0.92163453, -2.72807379, -1.64979183,\n",
       "        -1.49053088],\n",
       "       [-0.80974525,  0.21492209, -0.94674222,  0.28876653,  0.49549412,\n",
       "        -0.49192067],\n",
       "       [ 1.30063727, -1.53135096,  0.09646636, -2.37609664, -0.50087499,\n",
       "        -1.70416918],\n",
       "       [ 2.59616348, -0.78802741,  0.43308119, -1.41222082,  1.14980135,\n",
       "        -0.40617843],\n",
       "       [ 0.60390536,  0.0129916 ,  2.75559601,  0.30635603, -2.42486988,\n",
       "         2.0475742 ],\n",
       "       [-0.93102416, -0.40829893, -0.40990823, -0.53173652, -0.86880473,\n",
       "        -0.89620942]])"
      ]
     },
     "execution_count": 45,
     "metadata": {},
     "output_type": "execute_result"
    }
   ],
   "source": [
    "import datetime\n",
    "\n",
    "multi_strassen(S,R,check_dim = False,check_ig = False,check_quad = False, check_pot = True)\n",
    "\n"
   ]
  },
  {
   "cell_type": "code",
   "execution_count": null,
   "metadata": {},
   "outputs": [],
   "source": []
  }
 ],
 "metadata": {
  "kernelspec": {
   "display_name": "Python 3",
   "language": "python",
   "name": "python3"
  },
  "language_info": {
   "codemirror_mode": {
    "name": "ipython",
    "version": 3
   },
   "file_extension": ".py",
   "mimetype": "text/x-python",
   "name": "python",
   "nbconvert_exporter": "python",
   "pygments_lexer": "ipython3",
   "version": "3.6.4"
  }
 },
 "nbformat": 4,
 "nbformat_minor": 2
}
