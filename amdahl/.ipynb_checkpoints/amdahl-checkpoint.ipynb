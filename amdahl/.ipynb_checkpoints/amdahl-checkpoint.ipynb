{
 "cells": [
  {
   "cell_type": "markdown",
   "metadata": {},
   "source": [
    "# Lei de Amdahl\n",
    "\n",
    "A lei de Amdahl, proposta por Gene Amdahl em 1967, objetiva calcular o máximo de ganho em tempo de processamento (speedup) que é possível de se obter através da paralelização de um programa. Por ser intrinsecamente ligada ao conceito de speedup, é importante então definir esta variável.\n",
    "\n",
    "> Speedup é uma **métrica de desempenho relativo** entre os tempos de execução de dois algoritmos iguais, mas executados por sistemas diferentes, ou quando alguma técnica de otimização ou paralelização é aplicada a um deles.\n",
    "\n",
    "No caso da programação paralela, o speedup leva em consideração a existência de uma parte do algoritmo que pode ser paralelizada, e compara o tempo de execução serial com o tempo de execução com paralelização. Formalizando, temos a seguinte equação:\n",
    "\n",
    "$$S(n) = \\frac{1}{f + \\frac{1-f}{n}}$$\n",
    "Onde:\n",
    "* S(n) é o speedup quando utiliza-se n processadores para a execução de um algoritmo\n",
    "* n é o número de processadores utilizados\n",
    "* f é a fração do algoritmo que é estritamentre sequencial\n",
    "\n",
    "Em um contexto histórico no qual a computação paralela era apontada como uma das melhores soluções para o aumento do poder de processamento até então disponível (uma vez que as limitações eram tecnológicas), era notória a impossibilidade conseguir um ganho equivalente ao número de novos processadores adicionados para realizar uma tarefa, afinal sempre existirá uma parte do programa que não tem como dividir (paralelizar) denominada **fração estritamente sequencial** do algoritmo. Amdahl propôs que o ganho em eficiência era limitado justamente pela existência de tal parte. Analisando a fórmula do speedup, pode-se chegar a essa memsma conclusão. Para isso, imagine uma situação hipotética em que infinitos processadores sejam utilizados, e 50% do código possa ser paralelizado. Nesse cenário, o limite do speedup seria:\n",
    "\n",
    "$$ S(\\infty) = \\frac{1}{0.5 + \\frac{1-0.5}{\\infty}} = 2$$\n",
    "\n",
    "Fazendo o mesmo cálculo para os valores f = 25%, f = 10% e f = 5%, chegamos aos máximos speedups teóricos como sendo S = 4, S = 10 e S = 20, respectivamente. O gráfico abaixo representa os resultados desses cálculos.\n",
    "\n",
    "![image](https://upload.wikimedia.org/wikipedia/commons/thumb/e/ea/AmdahlsLaw.svg/640px-AmdahlsLaw.svg.png)\n",
    "<p style=text-align:center> **Fonte:** Wikipedia[1] </p>\n",
    "\n",
    "No entanto, somente a fórmula do Speedup não é suficiente para descrever todos os fatores envolvidos no tempo de processamento de um algoritmo. Diversos outros fatores conhecidos como **gargalos** (bottlenecks, em inglês) são responsáveis por perdas que afetam a velocidade de processamento[3]. Tais fatores incluem, mas não se limitam a:\n",
    "* Arquitetura da(s) máquina(s)\n",
    "* Problemas de Sincronização (quando dois processos buscam modificar a mesma informação ao mesmo tempo)\n",
    "* Compartilhamento de recursos (Cache, por exemplo)\n",
    "* Desbalanceamento de carga\n",
    "\n",
    "**(Inserir aqui nota a respeito do speedup supralinear) https://www.sciencedirect.com/science/article/pii/0167819187900536 e procurar um artigo mais atual sobre o tema, esse é de 1986** Então para conseguir um speedup maior, será necessário otimizar a porção de código que não pode ser paralelizada. \n",
    "\n",
    "Um exemplo de porção de código que não pode ser paralelizada são funções que envolvam IO.\n",
    "\n",
    "[1] https://en.wikipedia.org/wiki/Amdahl%27s_law\n",
    "\n",
    "[2] http://www.di-srv.unisa.it/~vitsca/SC-2011/DesignPrinciplesMulticoreProcessors/Krishnaprasad2001.pdf\n",
    "\n",
    "[3] http://users.elis.ugent.be/~leeckhou/papers/ispass12_2.pdf"
   ]
  }
 ],
 "metadata": {
  "kernelspec": {
   "display_name": "Python 3",
   "language": "python",
   "name": "python3"
  },
  "language_info": {
   "codemirror_mode": {
    "name": "ipython",
    "version": 3
   },
   "file_extension": ".py",
   "mimetype": "text/x-python",
   "name": "python",
   "nbconvert_exporter": "python",
   "pygments_lexer": "ipython3",
   "version": "3.6.4"
  }
 },
 "nbformat": 4,
 "nbformat_minor": 2
}
