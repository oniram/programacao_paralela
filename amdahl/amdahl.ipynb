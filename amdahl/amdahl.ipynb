{
 "cells": [
  {
   "cell_type": "markdown",
   "metadata": {},
   "source": [
    "Lei de Amdahl\n",
    "\n",
    "Em um artigo de 1967, Amdahl[1] descreveu uma formula que objetiva descobrir o máximo de ganho que podemos obter ao paralelizar um programa. A sua descrição literal abaixo só foi dada posteriormente.\n",
    "\n",
    "$S = \\frac{1}{f + \\frac{1-f}{N}}$\n",
    "\n",
    "\n",
    "\n",
    "Nesse artigo apenas uma pequena parte contribui para a formulação da lei de Amdahl. No restante, ele trata sobre outros assuntos que são fatores negativos da programação paralela, como a questão de diferentes arquiteturas.\n",
    "\n",
    "Era notório que não temos conseguir um ganho equivalente ao número de novos processadores adicionados para realizar uma tarefa, afinal sempre existirá uma parte do programa que não tem como dividir (paralelizar)\n",
    "\n",
    "Ou seja, se um programa que executa sequencialmente em um tempo x, não será executado em x/20 quando seu código for paralelizado entre 20 processadores.\n",
    "\n",
    "Sua formula dava um limite superior para o speedup em algoritmos, em sua abordagem pessismista ele dizia que esse limite justificava o não desenvolvimento de programação paralela massiva.\n",
    "Olhando para a formula, esse pessimismo pode ser entendido quando considerarmos um valor grande para f na formula. \n",
    "\n",
    "Então para conseguir um speedup maior, será necessário otimizar a porção de código que não pode ser paralelizada. \n",
    "\n",
    "\n",
    "Um exemplo de porção de código que não pode ser paralelizada são funções que envolvam IO.\n",
    "\n",
    "[1]\n",
    "[2] http://www.di-srv.unisa.it/~vitsca/SC-2011/DesignPrinciplesMulticoreProcessors/Krishnaprasad2001.pdf"
   ]
  },
  {
   "cell_type": "code",
   "execution_count": null,
   "metadata": {},
   "outputs": [],
   "source": []
  }
 ],
 "metadata": {
  "kernelspec": {
   "display_name": "Python 3",
   "language": "python",
   "name": "python3"
  },
  "language_info": {
   "codemirror_mode": {
    "name": "ipython",
    "version": 3
   },
   "file_extension": ".py",
   "mimetype": "text/x-python",
   "name": "python",
   "nbconvert_exporter": "python",
   "pygments_lexer": "ipython3",
   "version": "3.6.6"
  }
 },
 "nbformat": 4,
 "nbformat_minor": 2
}
