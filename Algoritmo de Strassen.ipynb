{
 "cells": [
  {
   "cell_type": "code",
   "execution_count": 29,
   "metadata": {},
   "outputs": [
    {
     "name": "stdout",
     "output_type": "stream",
     "text": [
      "Erro: As matrizes devem possuir mesmas dimensões\n",
      "Erro: As mastrizes devem ser ambas quadradas\n",
      "A matriz A será modificada, acrescentando-se zeros para que torne-se uma matriz do tipo 2^n x 2^n\n",
      "A matriz B será modificada, acrescentando-se zeros para que torne-se uma matriz do tipo 2^n x 2^n\n",
      "[[[[2. 2.]\n",
      "   [2. 2.]]\n",
      "\n",
      "  [[1. 1.]\n",
      "   [1. 1.]]\n",
      "\n",
      "  [[0. 0.]\n",
      "   [0. 0.]]\n",
      "\n",
      "  [[0. 0.]\n",
      "   [0. 0.]]]\n",
      "\n",
      "\n",
      " [[[2. 2.]\n",
      "   [2. 2.]]\n",
      "\n",
      "  [[1. 1.]\n",
      "   [1. 1.]]\n",
      "\n",
      "  [[0. 0.]\n",
      "   [0. 0.]]\n",
      "\n",
      "  [[0. 0.]\n",
      "   [0. 0.]]]\n",
      "\n",
      "\n",
      " [[[2. 2.]\n",
      "   [2. 2.]]\n",
      "\n",
      "  [[1. 1.]\n",
      "   [1. 1.]]\n",
      "\n",
      "  [[0. 0.]\n",
      "   [0. 0.]]\n",
      "\n",
      "  [[0. 0.]\n",
      "   [0. 0.]]]\n",
      "\n",
      "\n",
      " [[[0. 0.]\n",
      "   [0. 0.]]\n",
      "\n",
      "  [[0. 0.]\n",
      "   [0. 0.]]\n",
      "\n",
      "  [[0. 0.]\n",
      "   [0. 0.]]\n",
      "\n",
      "  [[0. 0.]\n",
      "   [0. 0.]]]]\n"
     ]
    }
   ],
   "source": [
    "import numpy as np\n",
    "import math\n",
    "\n",
    "def Strassen(matriz_1,matriz_2): #Algoritmo de Strassen para \n",
    "    if (matriz_1.shape[0] != 2) or (matriz_1.shape[1] != 2) or (matriz_2.shape[0] != 2) or (matriz_2.shape[1] != 2):\n",
    "        print(\"As matrizes devem ser do tipo 2x2\")\n",
    "        return None\n",
    "    \n",
    "    M1 = (matriz_1[0,0] + matriz_1[1,1]) * (matriz_2[0,0] + matriz_2[1,1])\n",
    "    M2 = (matriz_1[1,0] + matriz_1[1,1]) * matriz_2[0,0]\n",
    "    M3 = matriz_1[0,0] * (matriz_2[0,1] - matriz_2[1,1])\n",
    "    M4 = matriz_1[1,1] * (matriz_2[1,0] - matriz_2[0,0])\n",
    "    M5 = (matriz_1[0,0] + matriz_1 [0,1]) * matriz_2[1,1]\n",
    "    M6 = (matriz_1[1,0] - matriz_1[0,0]) * (matriz_2[0,0] + matriz_2[0,1])\n",
    "    M7 = (matriz_1[0,1] - matriz_1[1,1]) * (matriz_2[1,0] + matriz_2[1,1])\n",
    "    \n",
    "    Resultado = np.zeros([2,2])\n",
    "    Resultado[0,0] = M1 + M4 - M5 + M7\n",
    "    Resultado[0,1] = M3 + M5\n",
    "    Resultado[1,0] = M2 + M4\n",
    "    Resultado[1,1] = M1 - M2 + M3 + M6\n",
    "    \n",
    "    return Resultado\n",
    "\n",
    "A = np.ones([6,3])\n",
    "B = np.ones([3,6])\n",
    "C = np.zeros([A.shape[0],B.shape[1]]) #Guarda o tamanho original da matriz multiplicada\n",
    "\n",
    "#Checagem das condições pré-estabelecidas\n",
    "if (len(A.shape) != 2) or (len(B.shape) != 2):\n",
    "    print(\"Erro: As matrizes devem ser bidimensionais\")\n",
    "    \n",
    "if (A.shape != B.shape):\n",
    "    print(\"Erro: As matrizes devem possuir mesmas dimensões\")\n",
    "\n",
    "if (A.shape[1] != B.shape[0]):\n",
    "    print(\"Erro: Não é possível realizar a multiplicação C = A * B com as matrizes fornecidas\")\n",
    "    \n",
    "if ((A.shape[0] - A.shape[1]) != 0) or ((B.shape[0] - B.shape[1]) != 0):\n",
    "    print(\"Erro: As mastrizes devem ser ambas quadradas\")\n",
    "\n",
    "if (math.ceil(math.log2(A.shape[0]) != math.floor(math.log2(A.shape[0])))) or (math.ceil(math.log2(A.shape[1]) != math.floor(math.log2(A.shape[1])))):\n",
    "    print(\"A matriz A será modificada, acrescentando-se zeros para que torne-se uma matriz do tipo 2^n x 2^n\")\n",
    "    linhas = 2**math.ceil(math.log2(A.shape[0])) - A.shape[0] #Calcula quantas linhas faltam para um quadrado de dois\n",
    "    colunas = 2**math.ceil(math.log2(A.shape[1])) - A.shape[1] #Calcula quantas colunas faltam para um quadrado de dois\n",
    "    if linhas > colunas:\n",
    "        matriz_auxiliar = np.zeros([linhas,A.shape[1]])\n",
    "        A = np.vstack((A,matriz_auxiliar))\n",
    "        matriz_auxiliar = np.zeros([A.shape[0],A.shape[0]-A.shape[1]])\n",
    "        A = np.hstack((A,matriz_auxiliar))\n",
    "        \n",
    "    elif colunas >= linhas:\n",
    "        matriz_auxiliar = np.zeros([A.shape[0],colunas])\n",
    "        A = np.hstack((A,matriz_auxiliar))\n",
    "        matriz_auxiliar = np.zeros([A.shape[1]-A.shape[0],A.shape[1]])\n",
    "        A = np.vstack((A,matriz_auxiliar))\n",
    "        \n",
    "if (math.ceil(math.log2(B.shape[0]) != math.floor(math.log2(B.shape[0])))) or (math.ceil(math.log2(B.shape[1]) != math.floor(math.log2(B.shape[1])))):\n",
    "    print(\"A matriz B será modificada, acrescentando-se zeros para que torne-se uma matriz do tipo 2^n x 2^n\")\n",
    "    linhas = 2**math.ceil(math.log2(B.shape[0])) - B.shape[0] #Calcula quantas linhas faltam para um quadrado de dois\n",
    "    colunas = 2**math.ceil(math.log2(B.shape[1])) - B.shape[1] #Calcula quantas colunas faltam para um quadrado de dois\n",
    "    if linhas > colunas:\n",
    "        matriz_auxiliar = np.zeros([linhas,B.shape[1]])\n",
    "        B = np.vstack((B,matriz_auxiliar))\n",
    "        matriz_auxiliar = np.zeros([B.shape[0],B.shape[0]-B.shape[1]])\n",
    "        B = np.hstack((B,matriz_auxiliar))\n",
    "        \n",
    "    elif colunas >= linhas:\n",
    "        matriz_auxiliar = np.zeros([B.shape[0],colunas])\n",
    "        B = np.hstack((B,matriz_auxiliar))\n",
    "        matriz_auxiliar = np.zeros([B.shape[1]-B.shape[0],B.shape[1]])\n",
    "        B = np.vstack((B,matriz_auxiliar))\n",
    "\n",
    "#Separação das matrizes em submatrizes 2x2\n",
    "a_aux = []\n",
    "b_aux = []\n",
    "a=[]\n",
    "b=[]\n",
    "for i in range(0,A.shape[0],2):\n",
    "    for j in range(0,A.shape[1],2):\n",
    "        a_aux.append(A[i:i+2,j:j+2])\n",
    "        b_aux.append(B[i:i+2,j:j+2])\n",
    "    a.append(a_aux)\n",
    "    b.append(b_aux)\n",
    "    a_aux = []\n",
    "    b_aux = []\n",
    "\n",
    "# Multiplicação das matrizes\n",
    "c = []\n",
    "for i in range(len(a)):\n",
    "    c.append([])\n",
    "    for j in range(len(a)):\n",
    "        c[i].append(Strassen(a[i][j],b[j][i]))\n",
    "\n",
    "C1 = np.array(c)\n",
    "C = C1[0:C.shape[0],0:C.shape[1]]\n",
    "print(C1)\n",
    "\n",
    "#Por algum motivo, o algoritmo de strassen está funcionando mal"
   ]
  },
  {
   "cell_type": "code",
   "execution_count": 21,
   "metadata": {},
   "outputs": [
    {
     "name": "stdout",
     "output_type": "stream",
     "text": [
      "48.0 6.0 -12.0 12.0 70.0 -8.0 72.0\n",
      "[[18. 14.]\n",
      " [62. 66.]]\n"
     ]
    }
   ],
   "source": [
    "C = Strassen(b[0][0],a[0][0])\n",
    "C1 = np.matmul(A,B)\n",
    "print(C1)"
   ]
  },
  {
   "cell_type": "code",
   "execution_count": 24,
   "metadata": {},
   "outputs": [
    {
     "name": "stdout",
     "output_type": "stream",
     "text": [
      "(4, 4, 2, 2)\n"
     ]
    }
   ],
   "source": [
    "print(C.shape)"
   ]
  },
  {
   "cell_type": "code",
   "execution_count": 26,
   "metadata": {},
   "outputs": [
    {
     "name": "stdout",
     "output_type": "stream",
     "text": [
      "[[3. 3. 3. 3. 3. 3.]\n",
      " [3. 3. 3. 3. 3. 3.]\n",
      " [3. 3. 3. 3. 3. 3.]\n",
      " [3. 3. 3. 3. 3. 3.]\n",
      " [3. 3. 3. 3. 3. 3.]\n",
      " [3. 3. 3. 3. 3. 3.]]\n"
     ]
    }
   ],
   "source": [
    "S = np.ones([6,3])\n",
    "R = np.ones([3,6])\n",
    "print(np.matmul(S,R))"
   ]
  },
  {
   "cell_type": "code",
   "execution_count": null,
   "metadata": {},
   "outputs": [],
   "source": []
  }
 ],
 "metadata": {
  "kernelspec": {
   "display_name": "Python 3",
   "language": "python",
   "name": "python3"
  },
  "language_info": {
   "codemirror_mode": {
    "name": "ipython",
    "version": 3
   },
   "file_extension": ".py",
   "mimetype": "text/x-python",
   "name": "python",
   "nbconvert_exporter": "python",
   "pygments_lexer": "ipython3",
   "version": "3.6.4"
  }
 },
 "nbformat": 4,
 "nbformat_minor": 2
}
